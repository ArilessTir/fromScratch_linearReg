{
 "cells": [
  {
   "cell_type": "code",
   "execution_count": 1,
   "metadata": {},
   "outputs": [],
   "source": [
    "import sys\n",
    "import os\n",
    "\n",
    "PATH = os.getcwd().replace('/Notebook','')\n",
    "# Pour avoir accées aux functions de functions\n",
    "sys.path.append(f'{PATH}/functions')\n"
   ]
  },
  {
   "cell_type": "code",
   "execution_count": 2,
   "metadata": {},
   "outputs": [],
   "source": [
    "import CostFunction as cf\n",
    "import LoadData as ld\n",
    "import GradientDescent as gd\n",
    "import NormalEquation as ne\n",
    "import MinMax as mm\n",
    "import numpy as np\n",
    "import pandas as pd\n",
    "import matplotlib.pyplot as plt\n",
    "\n",
    "np.set_printoptions(suppress=True)"
   ]
  },
  {
   "cell_type": "code",
   "execution_count": 3,
   "metadata": {},
   "outputs": [],
   "source": [
    "data = ld.load_data('../../Data/audi.csv')\n",
    "data_norm = mm.min_max_scaler(data)"
   ]
  },
  {
   "cell_type": "code",
   "execution_count": 4,
   "metadata": {},
   "outputs": [],
   "source": [
    "X, y = ld.getX_y(data_norm, 'price')\n",
    "colnames = X.columns\n",
    "tarname = y.name\n",
    "\n",
    "# Matrix creation \n",
    "X = X.to_numpy()\n",
    "one = np.ones((X.shape[0],1))\n",
    "X  =np.append(one, X, axis=1)\n",
    "y = y.to_numpy().reshape((X.shape[0],1))\n",
    "theta = np.zeros((X.shape[1],1))"
   ]
  },
  {
   "cell_type": "markdown",
   "metadata": {},
   "source": [
    "## Gradient Descent"
   ]
  },
  {
   "cell_type": "code",
   "execution_count": 5,
   "metadata": {},
   "outputs": [],
   "source": [
    "theta = np.zeros((X.shape[1],1))\n",
    "ALPHA = 0.1\n",
    "ITER = 15\n",
    "theta_opti, J_history , theta_history = gd.gradient_descent(X,y,theta,ITER,ALPHA)"
   ]
  },
  {
   "cell_type": "code",
   "execution_count": 6,
   "metadata": {},
   "outputs": [
    {
     "data": {
      "image/png": "[encoded data removed]",
      "text/plain": [
       "<Figure size 432x288 with 1 Axes>"
      ]
     },
     "metadata": {
      "needs_background": "light"
     },
     "output_type": "display_data"
    }
   ],
   "source": [
    "plt.plot(J_history)\n",
    "plt.ylabel('J')\n",
    "plt.xlabel('iterations')\n",
    "plt.title('Cost function optimisation')\n",
    "plt.show()"
   ]
  },
  {
   "cell_type": "code",
   "execution_count": 8,
   "metadata": {},
   "outputs": [
    {
     "data": {
      "text/plain": [
       "array([[0.02602963],\n",
       "       [0.04405579],\n",
       "       [0.0570496 ],\n",
       "       [0.06641594],\n",
       "       [0.07316749],\n",
       "       [0.07803421],\n",
       "       [0.08154229],\n",
       "       [0.08407103],\n",
       "       [0.08589381],\n",
       "       [0.08720774],\n",
       "       [0.08815485],\n",
       "       [0.08883756],\n",
       "       [0.08932968],\n",
       "       [0.08968442],\n",
       "       [0.08994012]])"
      ]
     },
     "execution_count": 8,
     "metadata": {},
     "output_type": "execute_result"
    }
   ],
   "source": [
    "theta_0 = theta_history[:,0].reshape((ITER,1))\n",
    "theta_1 = theta_history[:,1]\n",
    "\n",
    "theta_0"
   ]
  },
  {
   "cell_type": "code",
   "execution_count": 9,
   "metadata": {},
   "outputs": [
    {
     "data": {
      "image/png": "[encoded data removed]",
      "text/plain": [
       "<Figure size 432x288 with 1 Axes>"
      ]
     },
     "metadata": {
      "needs_background": "light"
     },
     "output_type": "display_data"
    }
   ],
   "source": [
    "plt.scatter(theta_0, J_history, s=40, lw=0)\n",
    "plt.xlabel(r'$\\theta_0$')\n",
    "plt.ylabel(r'$J(\\theta)$')\n",
    "plt.title('Cost function')\n",
    "\n",
    "\n",
    "plt.tight_layout()\n",
    "plt.show()"
   ]
  },
  {
   "cell_type": "markdown",
   "metadata": {},
   "source": [
    "## Normal Equation"
   ]
  },
  {
   "cell_type": "code",
   "execution_count": 10,
   "metadata": {},
   "outputs": [],
   "source": [
    "theta = np.zeros((X.shape[1],1))\n",
    "updated_theta = ne.normal_equation(X,y,theta)"
   ]
  },
  {
   "cell_type": "code",
   "execution_count": 11,
   "metadata": {},
   "outputs": [
    {
     "data": {
      "text/plain": [
       "array([[ 0.11704361],\n",
       "       [-0.54598808],\n",
       "       [-0.09054987],\n",
       "       [-0.29889802],\n",
       "       [ 0.48943515]])"
      ]
     },
     "execution_count": 11,
     "metadata": {},
     "output_type": "execute_result"
    }
   ],
   "source": [
    "updated_theta"
   ]
  },
  {
   "cell_type": "code",
   "execution_count": null,
   "metadata": {},
   "outputs": [],
   "source": []
  }
 ],
 "metadata": {
  "interpreter": {
   "hash": "72c5e2fa100e99bad992da8778ed16a70230e14503b2119a3678f95f34e6ec27"
  },
  "kernelspec": {
   "display_name": "Python 3.6.9 64-bit ('linear_env': venv)",
   "name": "python3"
  },
  "language_info": {
   "codemirror_mode": {
    "name": "ipython",
    "version": 3
   },
   "file_extension": ".py",
   "mimetype": "text/x-python",
   "name": "python",
   "nbconvert_exporter": "python",
   "pygments_lexer": "ipython3",
   "version": "3.6.9"
  },
  "varInspector": {
   "cols": {
    "lenName": 16,
    "lenType": 16,
    "lenVar": 40
   },
   "kernels_config": {
    "python": {
     "delete_cmd_postfix": "",
     "delete_cmd_prefix": "del ",
     "library": "var_list.py",
     "varRefreshCmd": "print(var_dic_list())"
    },
    "r": {
     "delete_cmd_postfix": ") ",
     "delete_cmd_prefix": "rm(",
     "library": "var_list.r",
     "varRefreshCmd": "cat(var_dic_list()) "
    }
   },
   "types_to_exclude": [
    "module",
    "function",
    "builtin_function_or_method",
    "instance",
    "_Feature"
   ],
   "window_display": false
  }
 },
 "nbformat": 4,
 "nbformat_minor": 2
}
