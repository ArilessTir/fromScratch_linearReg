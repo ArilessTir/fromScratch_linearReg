{
 "cells": [
  {
   "cell_type": "code",
   "execution_count": 1,
   "metadata": {},
   "outputs": [],
   "source": [
    "import sys\n",
    "# Pour avoir accées aux functions de functions\n",
    "sys.path.append('/home/ariless/Bureau/Ml from scratch/Linear Regression/Code/functions')"
   ]
  },
  {
   "cell_type": "code",
   "execution_count": 2,
   "metadata": {},
   "outputs": [],
   "source": [
    "import CostFunction as cf\n",
    "import LoadData as ld\n",
    "import GradientDescent as gd\n",
    "import NormalEquation as ne\n",
    "import numpy as np\n",
    "import pandas as pd"
   ]
  },
  {
   "cell_type": "code",
   "execution_count": 3,
   "metadata": {},
   "outputs": [],
   "source": [
    "data = ld.load_data('../../Data/audi.csv')"
   ]
  },
  {
   "cell_type": "code",
   "execution_count": 4,
   "metadata": {},
   "outputs": [],
   "source": [
    "X, y = ld.getX_y(data, 'price')\n",
    "colnames = X.columns\n",
    "tarname = y.name\n",
    "\n",
    "# Matrix creation \n",
    "X = X.to_numpy()\n",
    "one = np.ones((X.shape[0],1))\n",
    "X  =np.append(one, X, axis=1)\n",
    "y = y.to_numpy().reshape((X.shape[0],1))\n",
    "theta = np.zeros((X.shape[1],1))"
   ]
  },
  {
   "cell_type": "markdown",
   "metadata": {},
   "source": [
    "## Gradient Descent"
   ]
  },
  {
   "cell_type": "code",
   "execution_count": 5,
   "metadata": {},
   "outputs": [
    {
     "name": "stdout",
     "output_type": "stream",
     "text": [
      "réel [[0.]\n",
      " [0.]\n",
      " [0.]\n",
      " [0.]\n",
      " [0.]]\n",
      "update [[1.82518635e+08]\n",
      " [0.00000000e+00]\n",
      " [0.00000000e+00]\n",
      " [0.00000000e+00]\n",
      " [0.00000000e+00]]\n",
      "réel [[0.]\n",
      " [0.]\n",
      " [0.]\n",
      " [0.]\n",
      " [0.]]\n",
      "update [[1.82518635e+08]\n",
      " [4.15462640e+08]\n",
      " [0.00000000e+00]\n",
      " [0.00000000e+00]\n",
      " [0.00000000e+00]]\n",
      "réel [[0.]\n",
      " [0.]\n",
      " [0.]\n",
      " [0.]\n",
      " [0.]]\n",
      "update [[1.82518635e+08]\n",
      " [4.15462640e+08]\n",
      " [3.43837230e+08]\n",
      " [0.00000000e+00]\n",
      " [0.00000000e+00]]\n",
      "réel [[0.]\n",
      " [0.]\n",
      " [0.]\n",
      " [0.]\n",
      " [0.]]\n",
      "update [[1.82518635e+08]\n",
      " [4.15462640e+08]\n",
      " [3.43837230e+08]\n",
      " [2.99572213e+08]\n",
      " [0.00000000e+00]]\n",
      "réel [[0.]\n",
      " [0.]\n",
      " [0.]\n",
      " [0.]\n",
      " [0.]]\n",
      "update [[1.82518635e+08]\n",
      " [4.15462640e+08]\n",
      " [3.43837230e+08]\n",
      " [2.99572213e+08]\n",
      " [2.51245325e+07]]\n"
     ]
    },
    {
     "data": {
      "text/plain": [
       "(array([[1.82518635e+08],\n",
       "        [4.15462640e+08],\n",
       "        [3.43837230e+08],\n",
       "        [2.99572213e+08],\n",
       "        [2.51245325e+07]]),\n",
       " array([[5.7399573e+29]]))"
      ]
     },
     "execution_count": 5,
     "metadata": {},
     "output_type": "execute_result"
    }
   ],
   "source": [
    "theta = np.zeros((X.shape[1],1))\n",
    "ALPHA = 0.5\n",
    "ITER = \n",
    "gd.gradient_descent(X,y,theta,ITER,ALPHA)"
   ]
  },
  {
   "cell_type": "code",
   "execution_count": 6,
   "metadata": {},
   "outputs": [
    {
     "ename": "NameError",
     "evalue": "name 'J_history' is not defined",
     "output_type": "error",
     "traceback": [
      "\u001b[0;31m---------------------------------------------------------------------------\u001b[0m",
      "\u001b[0;31mNameError\u001b[0m                                 Traceback (most recent call last)",
      "\u001b[0;32m/tmp/ipykernel_7104/1830271862.py\u001b[0m in \u001b[0;36m<module>\u001b[0;34m\u001b[0m\n\u001b[0;32m----> 1\u001b[0;31m \u001b[0mJ_history\u001b[0m\u001b[0;34m\u001b[0m\u001b[0;34m\u001b[0m\u001b[0m\n\u001b[0m",
      "\u001b[0;31mNameError\u001b[0m: name 'J_history' is not defined"
     ]
    }
   ],
   "source": [
    "J_history"
   ]
  },
  {
   "cell_type": "code",
   "execution_count": null,
   "metadata": {},
   "outputs": [],
   "source": [
    "plt.plot(np.arange(0,ITER,1),J_history)\n",
    "plt.show()"
   ]
  },
  {
   "cell_type": "markdown",
   "metadata": {},
   "source": [
    "## Normal Equation"
   ]
  },
  {
   "cell_type": "code",
   "execution_count": null,
   "metadata": {},
   "outputs": [],
   "source": [
    "theta = np.zeros((X.shape[1],1))\n",
    "updated_theta = ne.normal_equation(X,y,theta)"
   ]
  },
  {
   "cell_type": "code",
   "execution_count": null,
   "metadata": {},
   "outputs": [],
   "source": [
    "X[[1],:]"
   ]
  }
 ],
 "metadata": {
  "interpreter": {
   "hash": "72c5e2fa100e99bad992da8778ed16a70230e14503b2119a3678f95f34e6ec27"
  },
  "kernelspec": {
   "display_name": "Python 3",
   "language": "python",
   "name": "python3"
  },
  "language_info": {
   "codemirror_mode": {
    "name": "ipython",
    "version": 3
   },
   "file_extension": ".py",
   "mimetype": "text/x-python",
   "name": "python",
   "nbconvert_exporter": "python",
   "pygments_lexer": "ipython3",
   "version": "3.8.9"
  },
  "varInspector": {
   "cols": {
    "lenName": 16,
    "lenType": 16,
    "lenVar": 40
   },
   "kernels_config": {
    "python": {
     "delete_cmd_postfix": "",
     "delete_cmd_prefix": "del ",
     "library": "var_list.py",
     "varRefreshCmd": "print(var_dic_list())"
    },
    "r": {
     "delete_cmd_postfix": ") ",
     "delete_cmd_prefix": "rm(",
     "library": "var_list.r",
     "varRefreshCmd": "cat(var_dic_list()) "
    }
   },
   "types_to_exclude": [
    "module",
    "function",
    "builtin_function_or_method",
    "instance",
    "_Feature"
   ],
   "window_display": false
  }
 },
 "nbformat": 4,
 "nbformat_minor": 2
}
